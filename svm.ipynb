{
 "cells": [
  {
   "cell_type": "code",
   "execution_count": 1,
   "metadata": {},
   "outputs": [],
   "source": [
    "from itertools import product\n",
    "import pandas as pd\n",
    "import numpy as np\n",
    "from sklearn import svm\n",
    "from sklearn.preprocessing import StandardScaler\n",
    "from sklearn.model_selection import GridSearchCV\n",
    "import matplotlib.pyplot\n",
    "pd.options.display.float_format = '${:,.2f}'.format"
   ]
  },
  {
   "cell_type": "code",
   "execution_count": 2,
   "metadata": {},
   "outputs": [
    {
     "data": {
      "text/plain": [
       "(17, 3)"
      ]
     },
     "execution_count": 2,
     "metadata": {},
     "output_type": "execute_result"
    }
   ],
   "source": [
    "df = pd.read_csv('./data.csv')\n",
    "df.shape"
   ]
  },
  {
   "cell_type": "code",
   "execution_count": 3,
   "metadata": {},
   "outputs": [
    {
     "data": {
      "text/html": [
       "<div>\n",
       "<style scoped>\n",
       "    .dataframe tbody tr th:only-of-type {\n",
       "        vertical-align: middle;\n",
       "    }\n",
       "\n",
       "    .dataframe tbody tr th {\n",
       "        vertical-align: top;\n",
       "    }\n",
       "\n",
       "    .dataframe thead th {\n",
       "        text-align: right;\n",
       "    }\n",
       "</style>\n",
       "<table border=\"1\" class=\"dataframe\">\n",
       "  <thead>\n",
       "    <tr style=\"text-align: right;\">\n",
       "      <th></th>\n",
       "      <th>height</th>\n",
       "      <th>class</th>\n",
       "      <th>price</th>\n",
       "    </tr>\n",
       "  </thead>\n",
       "  <tbody>\n",
       "    <tr>\n",
       "      <th>0</th>\n",
       "      <td>65</td>\n",
       "      <td>2</td>\n",
       "      <td>3190</td>\n",
       "    </tr>\n",
       "    <tr>\n",
       "      <th>1</th>\n",
       "      <td>65</td>\n",
       "      <td>3</td>\n",
       "      <td>3400</td>\n",
       "    </tr>\n",
       "    <tr>\n",
       "      <th>2</th>\n",
       "      <td>70</td>\n",
       "      <td>4</td>\n",
       "      <td>3863</td>\n",
       "    </tr>\n",
       "    <tr>\n",
       "      <th>3</th>\n",
       "      <td>85</td>\n",
       "      <td>2</td>\n",
       "      <td>4105</td>\n",
       "    </tr>\n",
       "    <tr>\n",
       "      <th>4</th>\n",
       "      <td>85</td>\n",
       "      <td>3</td>\n",
       "      <td>4644</td>\n",
       "    </tr>\n",
       "  </tbody>\n",
       "</table>\n",
       "</div>"
      ],
      "text/plain": [
       "   height  class  price\n",
       "0      65      2   3190\n",
       "1      65      3   3400\n",
       "2      70      4   3863\n",
       "3      85      2   4105\n",
       "4      85      3   4644"
      ]
     },
     "execution_count": 3,
     "metadata": {},
     "output_type": "execute_result"
    }
   ],
   "source": [
    "df.head()"
   ]
  },
  {
   "cell_type": "code",
   "execution_count": 4,
   "metadata": {},
   "outputs": [],
   "source": [
    "sc = StandardScaler()"
   ]
  },
  {
   "cell_type": "code",
   "execution_count": 5,
   "metadata": {},
   "outputs": [],
   "source": [
    "X = df.iloc[:,:-1].values\n",
    "y = df.iloc[:,-1].values"
   ]
  },
  {
   "cell_type": "code",
   "execution_count": 6,
   "metadata": {},
   "outputs": [
    {
     "name": "stderr",
     "output_type": "stream",
     "text": [
      "/home/greg/.virtualenvs/ga/lib/python3.7/site-packages/sklearn/utils/validation.py:595: DataConversionWarning: Data with input dtype int64 was converted to float64 by StandardScaler.\n",
      "  warnings.warn(msg, DataConversionWarning)\n",
      "/home/greg/.virtualenvs/ga/lib/python3.7/site-packages/sklearn/utils/validation.py:595: DataConversionWarning: Data with input dtype int64 was converted to float64 by StandardScaler.\n",
      "  warnings.warn(msg, DataConversionWarning)\n"
     ]
    }
   ],
   "source": [
    "X = sc.fit_transform(X)"
   ]
  },
  {
   "cell_type": "code",
   "execution_count": 12,
   "metadata": {},
   "outputs": [],
   "source": [
    "r = svm.SVR(gamma='auto')"
   ]
  },
  {
   "cell_type": "code",
   "execution_count": 13,
   "metadata": {},
   "outputs": [],
   "source": [
    "gs = GridSearchCV(r,{'C': [1,10,100,1000,10000,100000], 'kernel': ['poly', 'rbf', 'sigmoid']}, cv=3)"
   ]
  },
  {
   "cell_type": "code",
   "execution_count": 14,
   "metadata": {},
   "outputs": [
    {
     "name": "stderr",
     "output_type": "stream",
     "text": [
      "/home/greg/.virtualenvs/ga/lib/python3.7/site-packages/sklearn/model_selection/_search.py:841: DeprecationWarning: The default of the `iid` parameter will change from True to False in version 0.22 and will be removed in 0.24. This will change numeric results when test-set sizes are unequal.\n",
      "  DeprecationWarning)\n"
     ]
    },
    {
     "data": {
      "text/plain": [
       "GridSearchCV(cv=3, error_score='raise-deprecating',\n",
       "       estimator=SVR(C=1.0, cache_size=200, coef0=0.0, degree=3, epsilon=0.1, gamma='auto',\n",
       "  kernel='rbf', max_iter=-1, shrinking=True, tol=0.001, verbose=False),\n",
       "       fit_params=None, iid='warn', n_jobs=None,\n",
       "       param_grid={'C': [1, 10, 100, 1000, 10000, 100000], 'kernel': ['poly', 'rbf', 'sigmoid']},\n",
       "       pre_dispatch='2*n_jobs', refit=True, return_train_score='warn',\n",
       "       scoring=None, verbose=0)"
      ]
     },
     "execution_count": 14,
     "metadata": {},
     "output_type": "execute_result"
    }
   ],
   "source": [
    "gs.fit(X, y)"
   ]
  },
  {
   "cell_type": "code",
   "execution_count": 15,
   "metadata": {},
   "outputs": [
    {
     "data": {
      "text/plain": [
       "SVR(C=1000, cache_size=200, coef0=0.0, degree=3, epsilon=0.1, gamma='auto',\n",
       "  kernel='sigmoid', max_iter=-1, shrinking=True, tol=0.001, verbose=False)"
      ]
     },
     "execution_count": 15,
     "metadata": {},
     "output_type": "execute_result"
    }
   ],
   "source": [
    "gs.best_estimator_"
   ]
  },
  {
   "cell_type": "code",
   "execution_count": 16,
   "metadata": {},
   "outputs": [
    {
     "data": {
      "text/plain": [
       "0.5831345772171546"
      ]
     },
     "execution_count": 16,
     "metadata": {},
     "output_type": "execute_result"
    }
   ],
   "source": [
    "gs.best_estimator_.score(X, y)"
   ]
  },
  {
   "cell_type": "markdown",
   "metadata": {},
   "source": [
    "#### Make predictions against full parameter sweeps"
   ]
  },
  {
   "cell_type": "code",
   "execution_count": 17,
   "metadata": {},
   "outputs": [],
   "source": [
    "# make class and heights\n",
    "h = np.arange(65,145,5)\n",
    "c = np.arange(1,15,1)"
   ]
  },
  {
   "cell_type": "code",
   "execution_count": 18,
   "metadata": {},
   "outputs": [],
   "source": [
    "# create matrix of all possible input features\n",
    "feat_pred = pd.DataFrame(list(product(h,c)), columns=['height', 'class'])"
   ]
  },
  {
   "cell_type": "code",
   "execution_count": 19,
   "metadata": {},
   "outputs": [
    {
     "name": "stderr",
     "output_type": "stream",
     "text": [
      "/home/greg/.virtualenvs/ga/lib/python3.7/site-packages/ipykernel_launcher.py:2: DataConversionWarning: Data with input dtype int64 were all converted to float64 by StandardScaler.\n",
      "  \n"
     ]
    }
   ],
   "source": [
    "# create predictions against the standard scaled versions of those features\n",
    "tgt_pred = pd.DataFrame(gs.best_estimator_.predict(sc.transform(feat_pred)), columns=['price'])"
   ]
  },
  {
   "cell_type": "code",
   "execution_count": 20,
   "metadata": {},
   "outputs": [],
   "source": [
    "# join those shits\n",
    "df_pred = feat_pred.join(tgt_pred)"
   ]
  },
  {
   "cell_type": "code",
   "execution_count": 21,
   "metadata": {},
   "outputs": [
    {
     "data": {
      "text/html": [
       "<div>\n",
       "<style scoped>\n",
       "    .dataframe tbody tr th:only-of-type {\n",
       "        vertical-align: middle;\n",
       "    }\n",
       "\n",
       "    .dataframe tbody tr th {\n",
       "        vertical-align: top;\n",
       "    }\n",
       "\n",
       "    .dataframe thead tr th {\n",
       "        text-align: left;\n",
       "    }\n",
       "\n",
       "    .dataframe thead tr:last-of-type th {\n",
       "        text-align: right;\n",
       "    }\n",
       "</style>\n",
       "<table border=\"1\" class=\"dataframe\">\n",
       "  <thead>\n",
       "    <tr>\n",
       "      <th></th>\n",
       "      <th colspan=\"14\" halign=\"left\">price</th>\n",
       "    </tr>\n",
       "    <tr>\n",
       "      <th>class</th>\n",
       "      <th>1</th>\n",
       "      <th>2</th>\n",
       "      <th>3</th>\n",
       "      <th>4</th>\n",
       "      <th>5</th>\n",
       "      <th>6</th>\n",
       "      <th>7</th>\n",
       "      <th>8</th>\n",
       "      <th>9</th>\n",
       "      <th>10</th>\n",
       "      <th>11</th>\n",
       "      <th>12</th>\n",
       "      <th>13</th>\n",
       "      <th>14</th>\n",
       "    </tr>\n",
       "    <tr>\n",
       "      <th>height</th>\n",
       "      <th></th>\n",
       "      <th></th>\n",
       "      <th></th>\n",
       "      <th></th>\n",
       "      <th></th>\n",
       "      <th></th>\n",
       "      <th></th>\n",
       "      <th></th>\n",
       "      <th></th>\n",
       "      <th></th>\n",
       "      <th></th>\n",
       "      <th></th>\n",
       "      <th></th>\n",
       "      <th></th>\n",
       "    </tr>\n",
       "  </thead>\n",
       "  <tbody>\n",
       "    <tr>\n",
       "      <th>65</th>\n",
       "      <td>$2,287.81</td>\n",
       "      <td>$2,731.01</td>\n",
       "      <td>$4,300.83</td>\n",
       "      <td>$4,977.32</td>\n",
       "      <td>$4,791.22</td>\n",
       "      <td>$4,332.28</td>\n",
       "      <td>$3,803.81</td>\n",
       "      <td>$3,381.93</td>\n",
       "      <td>$3,137.76</td>\n",
       "      <td>$3,023.37</td>\n",
       "      <td>$2,975.24</td>\n",
       "      <td>$2,955.91</td>\n",
       "      <td>$2,948.30</td>\n",
       "      <td>$2,945.33</td>\n",
       "    </tr>\n",
       "    <tr>\n",
       "      <th>70</th>\n",
       "      <td>$2,532.19</td>\n",
       "      <td>$2,789.23</td>\n",
       "      <td>$4,172.95</td>\n",
       "      <td>$4,809.86</td>\n",
       "      <td>$4,552.18</td>\n",
       "      <td>$4,048.08</td>\n",
       "      <td>$3,572.22</td>\n",
       "      <td>$3,265.87</td>\n",
       "      <td>$3,113.50</td>\n",
       "      <td>$3,047.56</td>\n",
       "      <td>$3,020.78</td>\n",
       "      <td>$3,010.18</td>\n",
       "      <td>$3,006.03</td>\n",
       "      <td>$3,004.41</td>\n",
       "    </tr>\n",
       "    <tr>\n",
       "      <th>75</th>\n",
       "      <td>$2,893.40</td>\n",
       "      <td>$2,987.66</td>\n",
       "      <td>$4,142.43</td>\n",
       "      <td>$4,700.02</td>\n",
       "      <td>$4,367.59</td>\n",
       "      <td>$3,881.49</td>\n",
       "      <td>$3,515.53</td>\n",
       "      <td>$3,317.80</td>\n",
       "      <td>$3,228.80</td>\n",
       "      <td>$3,192.02</td>\n",
       "      <td>$3,177.38</td>\n",
       "      <td>$3,171.62</td>\n",
       "      <td>$3,169.38</td>\n",
       "      <td>$3,168.50</td>\n",
       "    </tr>\n",
       "    <tr>\n",
       "      <th>80</th>\n",
       "      <td>$3,369.40</td>\n",
       "      <td>$3,339.81</td>\n",
       "      <td>$4,237.68</td>\n",
       "      <td>$4,688.55</td>\n",
       "      <td>$4,317.99</td>\n",
       "      <td>$3,917.51</td>\n",
       "      <td>$3,672.24</td>\n",
       "      <td>$3,555.28</td>\n",
       "      <td>$3,505.74</td>\n",
       "      <td>$3,485.80</td>\n",
       "      <td>$3,477.94</td>\n",
       "      <td>$3,474.87</td>\n",
       "      <td>$3,473.67</td>\n",
       "      <td>$3,473.20</td>\n",
       "    </tr>\n",
       "    <tr>\n",
       "      <th>85</th>\n",
       "      <td>$3,941.11</td>\n",
       "      <td>$3,821.79</td>\n",
       "      <td>$4,467.43</td>\n",
       "      <td>$4,828.62</td>\n",
       "      <td>$4,482.67</td>\n",
       "      <td>$4,195.31</td>\n",
       "      <td>$4,046.04</td>\n",
       "      <td>$3,980.57</td>\n",
       "      <td>$3,953.84</td>\n",
       "      <td>$3,943.25</td>\n",
       "      <td>$3,939.10</td>\n",
       "      <td>$3,937.48</td>\n",
       "      <td>$3,936.85</td>\n",
       "      <td>$3,936.60</td>\n",
       "    </tr>\n",
       "    <tr>\n",
       "      <th>90</th>\n",
       "      <td>$4,554.83</td>\n",
       "      <td>$4,357.36</td>\n",
       "      <td>$4,803.98</td>\n",
       "      <td>$5,154.90</td>\n",
       "      <td>$4,880.32</td>\n",
       "      <td>$4,685.38</td>\n",
       "      <td>$4,595.00</td>\n",
       "      <td>$4,557.48</td>\n",
       "      <td>$4,542.51</td>\n",
       "      <td>$4,536.64</td>\n",
       "      <td>$4,534.34</td>\n",
       "      <td>$4,533.45</td>\n",
       "      <td>$4,533.10</td>\n",
       "      <td>$4,532.96</td>\n",
       "    </tr>\n",
       "    <tr>\n",
       "      <th>95</th>\n",
       "      <td>$5,111.12</td>\n",
       "      <td>$4,831.74</td>\n",
       "      <td>$5,180.17</td>\n",
       "      <td>$5,636.09</td>\n",
       "      <td>$5,443.29</td>\n",
       "      <td>$5,294.61</td>\n",
       "      <td>$5,226.58</td>\n",
       "      <td>$5,198.58</td>\n",
       "      <td>$5,187.47</td>\n",
       "      <td>$5,183.11</td>\n",
       "      <td>$5,181.41</td>\n",
       "      <td>$5,180.74</td>\n",
       "      <td>$5,180.49</td>\n",
       "      <td>$5,180.39</td>\n",
       "    </tr>\n",
       "    <tr>\n",
       "      <th>100</th>\n",
       "      <td>$5,496.16</td>\n",
       "      <td>$5,147.12</td>\n",
       "      <td>$5,511.97</td>\n",
       "      <td>$6,171.50</td>\n",
       "      <td>$6,056.89</td>\n",
       "      <td>$5,907.82</td>\n",
       "      <td>$5,828.78</td>\n",
       "      <td>$5,794.08</td>\n",
       "      <td>$5,779.92</td>\n",
       "      <td>$5,774.30</td>\n",
       "      <td>$5,772.10</td>\n",
       "      <td>$5,771.25</td>\n",
       "      <td>$5,770.91</td>\n",
       "      <td>$5,770.78</td>\n",
       "    </tr>\n",
       "    <tr>\n",
       "      <th>105</th>\n",
       "      <td>$5,646.88</td>\n",
       "      <td>$5,276.90</td>\n",
       "      <td>$5,734.17</td>\n",
       "      <td>$6,647.43</td>\n",
       "      <td>$6,624.01</td>\n",
       "      <td>$6,445.17</td>\n",
       "      <td>$6,324.83</td>\n",
       "      <td>$6,266.41</td>\n",
       "      <td>$6,241.56</td>\n",
       "      <td>$6,231.55</td>\n",
       "      <td>$6,227.60</td>\n",
       "      <td>$6,226.06</td>\n",
       "      <td>$6,225.46</td>\n",
       "      <td>$6,225.22</td>\n",
       "    </tr>\n",
       "    <tr>\n",
       "      <th>110</th>\n",
       "      <td>$5,586.86</td>\n",
       "      <td>$5,258.22</td>\n",
       "      <td>$5,821.50</td>\n",
       "      <td>$6,990.73</td>\n",
       "      <td>$7,093.56</td>\n",
       "      <td>$6,885.15</td>\n",
       "      <td>$6,699.09</td>\n",
       "      <td>$6,597.39</td>\n",
       "      <td>$6,551.91</td>\n",
       "      <td>$6,533.20</td>\n",
       "      <td>$6,525.76</td>\n",
       "      <td>$6,522.84</td>\n",
       "      <td>$6,521.71</td>\n",
       "      <td>$6,521.26</td>\n",
       "    </tr>\n",
       "    <tr>\n",
       "      <th>115</th>\n",
       "      <td>$5,397.08</td>\n",
       "      <td>$5,144.03</td>\n",
       "      <td>$5,784.35</td>\n",
       "      <td>$7,180.28</td>\n",
       "      <td>$7,447.84</td>\n",
       "      <td>$7,242.61</td>\n",
       "      <td>$6,980.58</td>\n",
       "      <td>$6,814.18</td>\n",
       "      <td>$6,734.46</td>\n",
       "      <td>$6,700.70</td>\n",
       "      <td>$6,687.13</td>\n",
       "      <td>$6,681.77</td>\n",
       "      <td>$6,679.68</td>\n",
       "      <td>$6,678.87</td>\n",
       "    </tr>\n",
       "    <tr>\n",
       "      <th>120</th>\n",
       "      <td>$5,156.67</td>\n",
       "      <td>$4,974.10</td>\n",
       "      <td>$5,651.78</td>\n",
       "      <td>$7,231.12</td>\n",
       "      <td>$7,685.52</td>\n",
       "      <td>$7,535.70</td>\n",
       "      <td>$7,212.02</td>\n",
       "      <td>$6,962.67</td>\n",
       "      <td>$6,830.99</td>\n",
       "      <td>$6,772.73</td>\n",
       "      <td>$6,748.86</td>\n",
       "      <td>$6,739.39</td>\n",
       "      <td>$6,735.67</td>\n",
       "      <td>$6,734.23</td>\n",
       "    </tr>\n",
       "    <tr>\n",
       "      <th>125</th>\n",
       "      <td>$4,910.58</td>\n",
       "      <td>$4,773.46</td>\n",
       "      <td>$5,456.34</td>\n",
       "      <td>$7,174.01</td>\n",
       "      <td>$7,816.02</td>\n",
       "      <td>$7,769.70</td>\n",
       "      <td>$7,425.71</td>\n",
       "      <td>$7,088.39</td>\n",
       "      <td>$6,884.69</td>\n",
       "      <td>$6,788.39</td>\n",
       "      <td>$6,747.78</td>\n",
       "      <td>$6,731.47</td>\n",
       "      <td>$6,725.05</td>\n",
       "      <td>$6,722.54</td>\n",
       "    </tr>\n",
       "    <tr>\n",
       "      <th>130</th>\n",
       "      <td>$4,674.68</td>\n",
       "      <td>$4,558.38</td>\n",
       "      <td>$5,226.06</td>\n",
       "      <td>$7,041.11</td>\n",
       "      <td>$7,857.18</td>\n",
       "      <td>$7,941.18</td>\n",
       "      <td>$7,631.76</td>\n",
       "      <td>$7,225.40</td>\n",
       "      <td>$6,933.30</td>\n",
       "      <td>$6,781.22</td>\n",
       "      <td>$6,714.13</td>\n",
       "      <td>$6,686.67</td>\n",
       "      <td>$6,675.77</td>\n",
       "      <td>$6,671.50</td>\n",
       "    </tr>\n",
       "    <tr>\n",
       "      <th>135</th>\n",
       "      <td>$4,451.65</td>\n",
       "      <td>$4,340.20</td>\n",
       "      <td>$4,981.97</td>\n",
       "      <td>$6,859.15</td>\n",
       "      <td>$7,830.44</td>\n",
       "      <td>$8,049.27</td>\n",
       "      <td>$7,820.62</td>\n",
       "      <td>$7,388.93</td>\n",
       "      <td>$7,006.46</td>\n",
       "      <td>$6,778.93</td>\n",
       "      <td>$6,671.45</td>\n",
       "      <td>$6,626.10</td>\n",
       "      <td>$6,607.87</td>\n",
       "      <td>$6,600.69</td>\n",
       "    </tr>\n",
       "    <tr>\n",
       "      <th>140</th>\n",
       "      <td>$4,240.77</td>\n",
       "      <td>$4,126.83</td>\n",
       "      <td>$4,738.39</td>\n",
       "      <td>$6,647.98</td>\n",
       "      <td>$7,755.78</td>\n",
       "      <td>$8,100.52</td>\n",
       "      <td>$7,976.44</td>\n",
       "      <td>$7,572.67</td>\n",
       "      <td>$7,122.23</td>\n",
       "      <td>$6,804.45</td>\n",
       "      <td>$6,638.59</td>\n",
       "      <td>$6,565.20</td>\n",
       "      <td>$6,535.10</td>\n",
       "      <td>$6,523.15</td>\n",
       "    </tr>\n",
       "  </tbody>\n",
       "</table>\n",
       "</div>"
      ],
      "text/plain": [
       "           price                                                              \\\n",
       "class         1         2         3         4         5         6         7    \n",
       "height                                                                         \n",
       "65     $2,287.81 $2,731.01 $4,300.83 $4,977.32 $4,791.22 $4,332.28 $3,803.81   \n",
       "70     $2,532.19 $2,789.23 $4,172.95 $4,809.86 $4,552.18 $4,048.08 $3,572.22   \n",
       "75     $2,893.40 $2,987.66 $4,142.43 $4,700.02 $4,367.59 $3,881.49 $3,515.53   \n",
       "80     $3,369.40 $3,339.81 $4,237.68 $4,688.55 $4,317.99 $3,917.51 $3,672.24   \n",
       "85     $3,941.11 $3,821.79 $4,467.43 $4,828.62 $4,482.67 $4,195.31 $4,046.04   \n",
       "90     $4,554.83 $4,357.36 $4,803.98 $5,154.90 $4,880.32 $4,685.38 $4,595.00   \n",
       "95     $5,111.12 $4,831.74 $5,180.17 $5,636.09 $5,443.29 $5,294.61 $5,226.58   \n",
       "100    $5,496.16 $5,147.12 $5,511.97 $6,171.50 $6,056.89 $5,907.82 $5,828.78   \n",
       "105    $5,646.88 $5,276.90 $5,734.17 $6,647.43 $6,624.01 $6,445.17 $6,324.83   \n",
       "110    $5,586.86 $5,258.22 $5,821.50 $6,990.73 $7,093.56 $6,885.15 $6,699.09   \n",
       "115    $5,397.08 $5,144.03 $5,784.35 $7,180.28 $7,447.84 $7,242.61 $6,980.58   \n",
       "120    $5,156.67 $4,974.10 $5,651.78 $7,231.12 $7,685.52 $7,535.70 $7,212.02   \n",
       "125    $4,910.58 $4,773.46 $5,456.34 $7,174.01 $7,816.02 $7,769.70 $7,425.71   \n",
       "130    $4,674.68 $4,558.38 $5,226.06 $7,041.11 $7,857.18 $7,941.18 $7,631.76   \n",
       "135    $4,451.65 $4,340.20 $4,981.97 $6,859.15 $7,830.44 $8,049.27 $7,820.62   \n",
       "140    $4,240.77 $4,126.83 $4,738.39 $6,647.98 $7,755.78 $8,100.52 $7,976.44   \n",
       "\n",
       "                                                                              \n",
       "class         8         9         10        11        12        13        14  \n",
       "height                                                                        \n",
       "65     $3,381.93 $3,137.76 $3,023.37 $2,975.24 $2,955.91 $2,948.30 $2,945.33  \n",
       "70     $3,265.87 $3,113.50 $3,047.56 $3,020.78 $3,010.18 $3,006.03 $3,004.41  \n",
       "75     $3,317.80 $3,228.80 $3,192.02 $3,177.38 $3,171.62 $3,169.38 $3,168.50  \n",
       "80     $3,555.28 $3,505.74 $3,485.80 $3,477.94 $3,474.87 $3,473.67 $3,473.20  \n",
       "85     $3,980.57 $3,953.84 $3,943.25 $3,939.10 $3,937.48 $3,936.85 $3,936.60  \n",
       "90     $4,557.48 $4,542.51 $4,536.64 $4,534.34 $4,533.45 $4,533.10 $4,532.96  \n",
       "95     $5,198.58 $5,187.47 $5,183.11 $5,181.41 $5,180.74 $5,180.49 $5,180.39  \n",
       "100    $5,794.08 $5,779.92 $5,774.30 $5,772.10 $5,771.25 $5,770.91 $5,770.78  \n",
       "105    $6,266.41 $6,241.56 $6,231.55 $6,227.60 $6,226.06 $6,225.46 $6,225.22  \n",
       "110    $6,597.39 $6,551.91 $6,533.20 $6,525.76 $6,522.84 $6,521.71 $6,521.26  \n",
       "115    $6,814.18 $6,734.46 $6,700.70 $6,687.13 $6,681.77 $6,679.68 $6,678.87  \n",
       "120    $6,962.67 $6,830.99 $6,772.73 $6,748.86 $6,739.39 $6,735.67 $6,734.23  \n",
       "125    $7,088.39 $6,884.69 $6,788.39 $6,747.78 $6,731.47 $6,725.05 $6,722.54  \n",
       "130    $7,225.40 $6,933.30 $6,781.22 $6,714.13 $6,686.67 $6,675.77 $6,671.50  \n",
       "135    $7,388.93 $7,006.46 $6,778.93 $6,671.45 $6,626.10 $6,607.87 $6,600.69  \n",
       "140    $7,572.67 $7,122.23 $6,804.45 $6,638.59 $6,565.20 $6,535.10 $6,523.15  "
      ]
     },
     "execution_count": 21,
     "metadata": {},
     "output_type": "execute_result"
    }
   ],
   "source": [
    "out = df_pred.pivot(index='height', columns='class')\n",
    "out"
   ]
  },
  {
   "cell_type": "code",
   "execution_count": 22,
   "metadata": {},
   "outputs": [],
   "source": [
    "# write to file of course\n",
    "out.to_excel('./out.xlsx', sheet_name='predictions', float_format='%.2f')"
   ]
  },
  {
   "cell_type": "code",
   "execution_count": null,
   "metadata": {},
   "outputs": [],
   "source": []
  }
 ],
 "metadata": {
  "kernelspec": {
   "display_name": "Python 3",
   "language": "python",
   "name": "python3"
  },
  "language_info": {
   "codemirror_mode": {
    "name": "ipython",
    "version": 3
   },
   "file_extension": ".py",
   "mimetype": "text/x-python",
   "name": "python",
   "nbconvert_exporter": "python",
   "pygments_lexer": "ipython3",
   "version": "3.7.2"
  }
 },
 "nbformat": 4,
 "nbformat_minor": 2
}
